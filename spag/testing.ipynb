{
 "cells": [
  {
   "cell_type": "markdown",
   "metadata": {},
   "source": [
    "---\n",
    "## Loading the `spag` package\n",
    "---"
   ]
  },
  {
   "cell_type": "code",
   "execution_count": null,
   "metadata": {},
   "outputs": [],
   "source": [
    "## Originally used for Script Testing, not Python Notebooks\n",
    "import spag\n",
    "from spag.convert import *\n",
    "from spag.utils_data import *\n",
    "from spag.utils_plotting import *\n",
    "from spag import read_data as rd\n",
    "\n",
    "print(\"spag version:\", spag.__version__)\n",
    "print(\"logeps(H) = \"', ' rd.solar_logepsX_asplund09(Z=1))\n"
   ]
  },
  {
   "cell_type": "code",
   "execution_count": 1,
   "metadata": {},
   "outputs": [
    {
     "name": "stderr",
     "output_type": "stream",
     "text": [
      "WARNING: AstropyDeprecationWarning: The matrix_product function is deprecated and may be removed in a future version.\n",
      "        Use @ instead. [gala.coordinates.sgr]\n",
      "WARNING: AstropyDeprecationWarning: The matrix_product function is deprecated and may be removed in a future version.\n",
      "        Use @ instead. [gala.coordinates.orphan]\n",
      "WARNING: AstropyDeprecationWarning: The matrix_product function is deprecated and may be removed in a future version.\n",
      "        Use @ instead. [gala.coordinates.magellanic_stream]\n"
     ]
    },
    {
     "name": "stdout",
     "output_type": "stream",
     "text": [
      "Could not import continuum GUI (you are probably in python 2)\n"
     ]
    }
   ],
   "source": [
    "import numpy as np\n",
    "import pandas as pd\n",
    "\n",
    "from spag import read_data as s_rd\n",
    "from alexmods import read_data as a_rd\n",
    "\n",
    "from pprint import pprint\n",
    "\n",
    "# from astropy.utils.exceptions import AstropyDeprecationWarning\n",
    "# import warnings\n",
    "# warnings.filterwarnings(\"ignore\", category=AstropyDeprecationWarning)\n",
    "\n",
    "# from spag.utils_plotting import *\n",
    "from spag.utils_data import *\n",
    "# from spag.convert import *\n",
    "# import spag.periodic_table as pt\n",
    "from spag.periodic_table import pt_list, pt_dict\n",
    "# from spag.read_data import *"
   ]
  },
  {
   "cell_type": "code",
   "execution_count": null,
   "metadata": {},
   "outputs": [
    {
     "name": "stdout",
     "output_type": "stream",
     "text": [
      "WARNING: Dropped the CaII, TiII, VII, CrII, MnII, FeII columns.\n",
      "Loading Datafile:  /Users/ayelland/Research/metal-poor-stars/spag/spag/data/solar/asplund2009_solarabundance_table1.csv\n",
      "Loading Datafile:  /Users/ayelland/Research/metal-poor-stars/spag/spag/data/solar/asplund2009_solarabundance_table1.csv\n"
     ]
    }
   ],
   "source": [
    "## Default parameters\n",
    "sci_key=None ## options: [nan, 'R2', 'R1', 'S', 'I']\n",
    "priority=1 ## options: [1, 2], but can use 0 to keep all entries\n",
    "load_eps=True ##\n",
    "load_ul=True ##\n",
    "load_XH=True ##\n",
    "load_XFe=True ##\n",
    "load_aux=True ##\n",
    "name_as_index=True ##\n",
    "\n",
    "data_dir = '/Users/ayelland/Research/metal-poor-stars/spag/spag/data/'\n",
    "\n",
    "\n",
    "\n",
    "\n",
    "# save the data file\n",
    "output_df = load_jinabase()\n",
    "\n",
    "output_df.to_csv(data_dir+\"abundance_tables/JINAbase-updated/JINAbase_2021_yelland_processed.csv\", index=False)\n",
    "\n",
    "\n"
   ]
  },
  {
   "cell_type": "code",
   "execution_count": 4,
   "metadata": {},
   "outputs": [
    {
     "name": "stdout",
     "output_type": "stream",
     "text": [
      "Loading Datafile:  /Users/ayelland/Research/metal-poor-stars/spag/spag/data/solar/asplund2009_solarabundance_table1.csv\n",
      "WARNING: Dropped the CaII, TiII, VII, CrII, MnII, FeII columns.\n",
      "Loading Datafile:  /Users/ayelland/Research/metal-poor-stars/spag/spag/data/solar/asplund2009_solarabundance_table1.csv\n",
      "Loading Datafile:  /Users/ayelland/Research/metal-poor-stars/spag/spag/data/solar/asplund2009_solarabundance_table1.csv\n",
      "['epsli', 'epsbe', 'epsc', 'epsn', 'epso', 'epsf', 'epsna', 'epsmg', 'epsal', 'epssi', 'epsp', 'epss', 'epsk', 'epsca', 'epssc', 'epsti', 'epsv', 'epscr', 'epsmn', 'epsfe', 'epsco', 'epsni', 'epscu', 'epszn', 'epsga', 'epsge', 'epsas', 'epsse', 'epsrb', 'epssr', 'epsy', 'epszr', 'epsnb', 'epsmo', 'epsru', 'epsrh', 'epspd', 'epsag', 'epscd', 'epssn', 'epste', 'epsba', 'epsla', 'epsce', 'epspr', 'epsnd', 'epssm', 'epseu', 'epsgd', 'epstb', 'epsdy', 'epsho', 'epser', 'epstm', 'epsyb', 'epslu', 'epshf', 'epsw', 'epsos', 'epsir', 'epspt', 'epsau', 'epshg', 'epspb', 'epsbi', 'epsth', 'epsu', 'ulli', 'ulbe', 'ulc', 'uln', 'ulo', 'ulf', 'ulna', 'ulmg', 'ulal', 'ulsi', 'ulp', 'uls', 'ulk', 'ulca', 'ulsc', 'ulti', 'ulv', 'ulcr', 'ulmn', 'ulfe', 'ulco', 'ulni', 'ulcu', 'ulzn', 'ulga', 'ulge', 'ulas', 'ulse', 'ulrb', 'ulsr', 'uly', 'ulzr', 'ulnb', 'ulmo', 'ulru', 'ulrh', 'ulpd', 'ulag', 'ulcd', 'ulsn', 'ulte', 'ulba', 'ulla', 'ulce', 'ulpr', 'ulnd', 'ulsm', 'uleu', 'ulgd', 'ultb', 'uldy', 'ulho', 'uler', 'ultm', 'ulyb', 'ullu', 'ulhf', 'ulw', 'ulos', 'ulir', 'ulpt', 'ulau', 'ulhg', 'ulpb', 'ulbi', 'ulth', 'ulu', '[Li/H]', '[Be/H]', '[C/H]', '[N/H]', '[O/H]', '[F/H]', '[Na/H]', '[Mg/H]', '[Al/H]', '[Si/H]', '[P/H]', '[S/H]', '[K/H]', '[Ca/H]', '[Sc/H]', '[Ti/H]', '[V/H]', '[Cr/H]', '[Mn/H]', '[Fe/H]', '[Co/H]', '[Ni/H]', '[Cu/H]', '[Zn/H]', '[Ga/H]', '[Ge/H]', '[As/H]', '[Se/H]', '[Rb/H]', '[Sr/H]', '[Y/H]', '[Zr/H]', '[Nb/H]', '[Mo/H]', '[Ru/H]', '[Rh/H]', '[Pd/H]', '[Ag/H]', '[Cd/H]', '[Sn/H]', '[Te/H]', '[Ba/H]', '[La/H]', '[Ce/H]', '[Pr/H]', '[Nd/H]', '[Sm/H]', '[Eu/H]', '[Gd/H]', '[Tb/H]', '[Dy/H]', '[Ho/H]', '[Er/H]', '[Tm/H]', '[Yb/H]', '[Lu/H]', '[Hf/H]', '[W/H]', '[Os/H]', '[Ir/H]', '[Pt/H]', '[Au/H]', '[Hg/H]', '[Pb/H]', '[Bi/H]', '[Th/H]', '[U/H]', '[Li/Fe]', '[Be/Fe]', '[C/Fe]', '[N/Fe]', '[O/Fe]', '[F/Fe]', '[Na/Fe]', '[Mg/Fe]', '[Al/Fe]', '[Si/Fe]', '[P/Fe]', '[S/Fe]', '[K/Fe]', '[Ca/Fe]', '[Sc/Fe]', '[Ti/Fe]', '[V/Fe]', '[Cr/Fe]', '[Mn/Fe]', '[Co/Fe]', '[Ni/Fe]', '[Cu/Fe]', '[Zn/Fe]', '[Ga/Fe]', '[Ge/Fe]', '[As/Fe]', '[Se/Fe]', '[Rb/Fe]', '[Sr/Fe]', '[Y/Fe]', '[Zr/Fe]', '[Nb/Fe]', '[Mo/Fe]', '[Ru/Fe]', '[Rh/Fe]', '[Pd/Fe]', '[Ag/Fe]', '[Cd/Fe]', '[Sn/Fe]', '[Te/Fe]', '[Ba/Fe]', '[La/Fe]', '[Ce/Fe]', '[Pr/Fe]', '[Nd/Fe]', '[Sm/Fe]', '[Eu/Fe]', '[Gd/Fe]', '[Tb/Fe]', '[Dy/Fe]', '[Ho/Fe]', '[Er/Fe]', '[Tm/Fe]', '[Yb/Fe]', '[Lu/Fe]', '[Hf/Fe]', '[W/Fe]', '[Os/Fe]', '[Ir/Fe]', '[Pt/Fe]', '[Au/Fe]', '[Hg/Fe]', '[Pb/Fe]', '[Bi/Fe]', '[Th/Fe]', '[U/Fe]', 'JINA_ID', 'Priority', 'Ref', 'Name', 'Simbad_Identifier', 'NLTE', 'Sci_key', 'C_key', 'Loc', 'Type', 'RA', 'DEC', 'Vel', 'Vel_bibcode', 'U_mag', 'B_mag', 'V_mag', 'R_mag', 'I_mag', 'J_mag', 'H_mag', 'K_mag', 'Teff', 'logg', 'Fe/H', 'Vmic', 'Added_by']\n"
     ]
    }
   ],
   "source": [
    "asplund09 = s_rd.solar_logepsX_asplund09()\n",
    "asplund09.columns\n",
    "data = s_rd.load_jinabase()\n",
    "\n",
    "print(list(data.columns))\n",
    "\n",
    "\n"
   ]
  }
 ],
 "metadata": {
  "kernelspec": {
   "display_name": "spag2",
   "language": "python",
   "name": "python3"
  },
  "language_info": {
   "codemirror_mode": {
    "name": "ipython",
    "version": 3
   },
   "file_extension": ".py",
   "mimetype": "text/x-python",
   "name": "python",
   "nbconvert_exporter": "python",
   "pygments_lexer": "ipython3",
   "version": "3.8.19"
  }
 },
 "nbformat": 4,
 "nbformat_minor": 2
}
