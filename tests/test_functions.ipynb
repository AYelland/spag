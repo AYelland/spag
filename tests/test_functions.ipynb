{
 "cells": [
  {
   "cell_type": "markdown",
   "metadata": {},
   "source": [
    "---\n",
    "## Loading the `spag` package\n",
    "---"
   ]
  },
  {
   "cell_type": "code",
   "execution_count": 1,
   "metadata": {},
   "outputs": [],
   "source": [
    "import numpy as np\n",
    "import pandas as pd\n",
    "from pprint import pprint\n",
    "\n",
    "# from spag.utils_plotting import *\n",
    "# from spag.utils_data import *\n",
    "# from spag.convert import *\n",
    "import spag.periodic_table as pt\n",
    "from spag.periodic_table import pt_list, pt_dict\n",
    "# from spag.read_data import *"
   ]
  },
  {
   "cell_type": "code",
   "execution_count": 9,
   "metadata": {},
   "outputs": [
    {
     "name": "stdout",
     "output_type": "stream",
     "text": [
      "<Element(symbol='H', atomic=1)>\n"
     ]
    }
   ],
   "source": [
    "elem = 'H'\n",
    "print(pt.element_query(elem))"
   ]
  },
  {
   "cell_type": "code",
   "execution_count": 3,
   "metadata": {},
   "outputs": [],
   "source": [
    "# # used meteoritic if photospheric not available\n",
    "# _asplund09 = {'H':12.0,'He':10.93,'Li':1.05,'Be':1.38,'B':2.70,\n",
    "#               'C' :8.43,'N':7.83,'O':8.69,'F':4.56,'Ne':7.93,\n",
    "#               'Na':6.24,'Mg':7.60,'Al':6.45,'Si':7.51,'P':5.41,\n",
    "#               'S':7.12,'Cl':5.50,'Ar':6.40,'K' :5.03,'Ca':6.34,\n",
    "#               'Sc':3.15,'Ti':4.95,'V' :3.93,'Cr':5.64,'Mn':5.43,\n",
    "#               'Fe':7.50,'Co':4.99,'Ni':6.22,'Cu':4.19,'Zn':4.56,\n",
    "#               'Ga':3.04,'Ge':3.65,'As':2.30,'Se':3.34,'Br':2.54,\n",
    "#               'Kr':3.25,'Rb':2.52,'Sr':2.87,'Y' :2.21,'Zr':2.58,\n",
    "#               'Nb':1.46,'Mo':1.88,'Ru':1.75,'Rh':0.91,'Pd':1.57,\n",
    "#               'Ag':0.94,'Cd':1.71,'In':0.80,'Sn':2.04,'Sb':1.01,\n",
    "#               'Te':2.18, 'I':1.55,'Xe':2.24,'Cs':1.08,\n",
    "#               'Ba':2.18,'La':1.10,'Ce':1.58,'Pr':0.72,'Nd':1.42,\n",
    "#               'Sm':0.96,'Eu':0.52,'Gd':1.07,'Tb':0.30,\n",
    "#               'Dy':1.10,'Ho':0.48,'Er':0.92,'Tm':0.10,'Yb':0.84,\n",
    "#               'Lu':0.10,'Hf':0.85,'Ta':-0.12,'W':0.85,'Re':0.26,\n",
    "#               'Os':1.40,'Ir':1.38,'Pt':1.62, 'Au':0.92,'Hg':1.17,\n",
    "#               'Tl':0.90,'Pb':1.75,'Bi':0.65,'Th':0.02,'U':-0.54,\n",
    "#               'Tc':np.nan}\n",
    "\n",
    "# def get_solar(elems):\n",
    "#     \"\"\"\n",
    "#     Returns the solar abundance of a list of elements as a pandas Series\n",
    "#     \"\"\"\n",
    "#     elems = np.ravel(elems)\n",
    "#     good_elems = [getelem(elem) for elem in elems]\n",
    "#     return pd.Series([_asplund09[elem] for elem in good_elems],index=elems,name='asplund09')\n",
    "\n",
    "# get_solar('Fe')"
   ]
  }
 ],
 "metadata": {
  "kernelspec": {
   "display_name": "spag",
   "language": "python",
   "name": "python3"
  },
  "language_info": {
   "codemirror_mode": {
    "name": "ipython",
    "version": 3
   },
   "file_extension": ".py",
   "mimetype": "text/x-python",
   "name": "python",
   "nbconvert_exporter": "python",
   "pygments_lexer": "ipython3",
   "version": "3.8.19"
  }
 },
 "nbformat": 4,
 "nbformat_minor": 2
}
